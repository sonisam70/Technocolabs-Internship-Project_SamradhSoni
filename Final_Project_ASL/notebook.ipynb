{
 "cells": [
  {
   "cell_type": "markdown",
   "metadata": {},
   "source": [
    "# Task-1. American Sign Language (ASL)"
   ]
  },
  {
   "cell_type": "code",
   "execution_count": null,
   "metadata": {},
   "outputs": [],
   "source": [
    "# Import packages and set numpy random seed\n",
    "import numpy as np\n",
    "np.random.seed(5) \n",
    "import tensorflow as tf\n",
    "tf.random.set_seed(2)\n",
    "from datasets import sign_language\n",
    "import matplotlib.pyplot as plt\n",
    "%matplotlib inline\n",
    "\n",
    "# Load pre-shuffled training and test datasets\n",
    "(x_train, y_train), (x_test, y_test) = sign_language.load_data()"
   ]
  },
  {
   "cell_type": "markdown",
   "metadata": {},
   "source": [
    "# Task-2. Visualize the training data"
   ]
  },
  {
   "cell_type": "code",
   "execution_count": null,
   "metadata": {},
   "outputs": [],
   "source": [
    "# Store labels of dataset\n",
    "labels = ['A', 'B', 'C']\n",
    "\n",
    "# Print the first several training images, along with the labels\n",
    "fig = plt.figure(figsize=(20,5))\n",
    "for i in range(36):\n",
    "    ax = fig.add_subplot(3, 12, i + 1, xticks=[], yticks=[])\n",
    "    ax.imshow(np.squeeze(x_train[i]))\n",
    "    ax.set_title(\"{}\".format(labels[y_train[i]]))\n",
    "plt.show()"
   ]
  },
  {
   "cell_type": "markdown",
   "metadata": {},
   "source": [
    "# Task-3. Examine the dataset"
   ]
  },
  {
   "cell_type": "code",
   "execution_count": null,
   "metadata": {},
   "outputs": [],
   "source": [
    "# Number of A's in the training dataset\n",
    "num_A_train = sum(y_train==0)\n",
    "# Number of B's in the training dataset\n",
    "num_B_train = sum(y_train==1)\n",
    "# Number of C's in the training dataset\n",
    "num_C_train = sum(y_train==2)\n",
    "\n",
    "# Number of A's in the test dataset\n",
    "num_A_test = sum(y_test==0)\n",
    "# Number of B's in the test dataset\n",
    "num_B_test = sum(y_test==1)\n",
    "# Number of C's in the test dataset\n",
    "num_C_test = sum(y_test==2)\n",
    "\n",
    "# Print statistics about the dataset\n",
    "print(\"Training set:\")\n",
    "print(\"\\tA: {}, B: {}, C: {}\".format(num_A_train, num_B_train, num_C_train))\n",
    "print(\"Test set:\")\n",
    "print(\"\\tA: {}, B: {}, C: {}\".format(num_A_test, num_B_test, num_C_test))"
   ]
  },
  {
   "cell_type": "markdown",
   "metadata": {},
   "source": [
    "# Task-4. One-hot encode the data"
   ]
  },
  {
   "cell_type": "code",
   "execution_count": null,
   "metadata": {},
   "outputs": [],
   "source": [
    "from keras.utils import np_utils\n",
    "\n",
    "# One-hot encode the training labels\n",
    "y_train_OH = np_utils.to_categorical(y_train)\n",
    "\n",
    "# One-hot encode the test labels\n",
    "y_test_OH = np_utils.to_categorical(y_test)"
   ]
  },
  {
   "cell_type": "markdown",
   "metadata": {},
   "source": [
    "# Task-5. Define the model"
   ]
  },
  {
   "cell_type": "code",
   "execution_count": null,
   "metadata": {},
   "outputs": [],
   "source": [
    "from keras.layers import Conv2D, MaxPooling2D\n",
    "from keras.layers import Flatten, Dense\n",
    "from keras.models import Sequential\n",
    "\n",
    "model = Sequential()\n",
    "# First convolutional layer accepts image input\n",
    "model.add(Conv2D(filters=5, kernel_size=5, padding='same', activation='relu', \n",
    "                        input_shape=(50, 50, 3)))\n",
    "# Add a max pooling layer\n",
    "model.add(MaxPooling2D(pool_size=4))\n",
    "# Add a convolutional layer\n",
    "model.add(Conv2D(filters=15, kernel_size=5, padding='same', activation='relu'))\n",
    "# Add another max pooling layer\n",
    "model.add(MaxPooling2D(pool_size=4))\n",
    "# Flatten and feed to output layer\n",
    "model.add(Flatten())\n",
    "model.add(Dense(3, activation='softmax'))\n",
    "\n",
    "# Summarize the model\n",
    "model.summary()"
   ]
  },
  {
   "cell_type": "markdown",
   "metadata": {},
   "source": [
    "# Task-6. Compile the model"
   ]
  },
  {
   "cell_type": "code",
   "execution_count": null,
   "metadata": {},
   "outputs": [],
   "source": [
    "# Compile the model\n",
    "model.compile(optimizer='rmsprop', \n",
    "              loss='categorical_crossentropy', \n",
    "              metrics=['accuracy'])"
   ]
  },
  {
   "cell_type": "markdown",
   "metadata": {},
   "source": [
    "# Task-7. Train the model"
   ]
  },
  {
   "cell_type": "code",
   "execution_count": null,
   "metadata": {},
   "outputs": [],
   "source": [
    "\n",
    "# Train the model\n",
    "hist = model.fit(x_train, y_train_OH,\n",
    "                validation_split=0.20,\n",
    "                epochs=2,\n",
    "                batch_size=32)"
   ]
  },
  {
   "cell_type": "markdown",
   "metadata": {},
   "source": [
    "# Task-8. Test the model"
   ]
  },
  {
   "cell_type": "code",
   "execution_count": null,
   "metadata": {},
   "outputs": [],
   "source": [
    "# Obtain accuracy on test set\n",
    "score = model.evaluate(x=x_test, \n",
    "                       y=y_test_OH,\n",
    "                       verbose=0)\n",
    "print('Test accuracy:', score[1])"
   ]
  },
  {
   "cell_type": "markdown",
   "metadata": {},
   "source": [
    "# Task-9. Visualize mistakes"
   ]
  },
  {
   "cell_type": "code",
   "execution_count": null,
   "metadata": {},
   "outputs": [],
   "source": [
    "# Get predicted probabilities for test dataset\n",
    "y_probs = model.predict(x_test)\n",
    "\n",
    "# Get predicted labels for test dataset\n",
    "y_preds = np.argmax(y_probs, axis=1)\n",
    "\n",
    "# Indices corresponding to test images which were mislabeled\n",
    "bad_test_idxs = np.where(y_preds != y_test)[0]\n",
    "\n",
    "# Print mislabeled examples\n",
    "fig = plt.figure(figsize=(25,4))\n",
    "for i, idx in enumerate(bad_test_idxs):\n",
    "    ax = fig.add_subplot(2, np.ceil(len(bad_test_idxs)/2), i + 1, xticks=[], yticks=[])\n",
    "    ax.imshow(np.squeeze(x_test[idx]))\n",
    "    ax.set_title(\"{} (pred: {})\".format(labels[y_test[idx]], labels[y_preds[idx]]))"
   ]
  },
  {
   "cell_type": "code",
   "execution_count": null,
   "metadata": {},
   "outputs": [],
   "source": [
    "model_json=model.to_json()\n",
    "with open(\"model.json\",\"w\") as json_file:\n",
    "      json_file.write(model_json)"
   ]
  },
  {
   "cell_type": "code",
   "execution_count": null,
   "metadata": {},
   "outputs": [],
   "source": []
  }
 ],
 "metadata": {
  "kernelspec": {
   "display_name": "Python 3",
   "language": "python",
   "name": "python3"
  }
 },
 "nbformat": 4,
 "nbformat_minor": 4
}
